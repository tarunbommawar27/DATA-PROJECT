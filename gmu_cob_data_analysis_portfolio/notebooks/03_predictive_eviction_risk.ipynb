{
 "cells": [
  {
   "cell_type": "markdown",
   "id": "f35110f9",
   "metadata": {},
   "source": [
    "# 03 — Predictive Modeling: Eviction Risk"
   ]
  },
  {
   "cell_type": "code",
   "execution_count": null,
   "id": "50838b77",
   "metadata": {},
   "outputs": [],
   "source": [
    "\n",
    "import pandas as pd, numpy as np, matplotlib.pyplot as plt\n",
    "from sklearn.model_selection import train_test_split\n",
    "from sklearn.preprocessing import StandardScaler\n",
    "from sklearn.linear_model import LogisticRegression\n",
    "from sklearn.ensemble import RandomForestClassifier\n",
    "from sklearn.metrics import roc_auc_score, RocCurveDisplay\n",
    "from sklearn.inspection import permutation_importance\n",
    "\n",
    "df = pd.read_csv('data/households.csv')\n",
    "df['annual_income_usd'] = df.groupby(['county','year'])['annual_income_usd'].transform(lambda s: s.fillna(s.median()))\n",
    "df['num_children'] = df.groupby(['county','year'])['num_children'].transform(lambda s: s.fillna(s.median().round()))\n",
    "df['rent_burden_ratio'] = df['rent_burden_ratio'].clip(0,1)\n",
    "df['rent_burden_ratio'] = df.groupby(['county','year'])['rent_burden_ratio'].transform(lambda s: s.fillna(s.mean()))\n",
    "\n",
    "features = ['annual_income_usd','rent_burden_ratio','eviction_notice','prior_homeless_experience','num_children','any_disability']\n",
    "X, y = df[features], df['eviction_filed_next_6mo']\n",
    "Xtr, Xte, ytr, yte = train_test_split(X, y, test_size=0.25, random_state=7, stratify=y)\n",
    "\n",
    "sc = StandardScaler(); Xtr_s = sc.fit_transform(Xtr); Xte_s = sc.transform(Xte)\n",
    "lr = LogisticRegression(max_iter=200).fit(Xtr_s, ytr)\n",
    "rf = RandomForestClassifier(n_estimators=300, random_state=7, class_weight='balanced_subsample').fit(Xtr, ytr)\n",
    "\n",
    "plr = lr.predict_proba(Xte_s)[:,1]; prf = rf.predict_proba(Xte)[:,1]\n",
    "print('AUC — LR:', round(roc_auc_score(yte, plr),3), ' RF:', round(roc_auc_score(yte, prf),3))\n",
    "\n",
    "fig = plt.figure()\n",
    "RocCurveDisplay.from_predictions(yte, plr, name='LogReg')\n",
    "RocCurveDisplay.from_predictions(yte, prf, name='RandomForest')\n",
    "plt.title('ROC — Eviction Risk'); plt.tight_layout(); plt.show()\n",
    "\n",
    "perm = permutation_importance(rf, Xte, yte, n_repeats=10, random_state=7)\n",
    "importances = pd.DataFrame({'feature': features, 'importance': perm.importances_mean}).sort_values('importance', ascending=False)\n",
    "print(importances)\n",
    "\n",
    "fig = plt.figure()\n",
    "plt.barh(importances['feature'], importances['importance']); plt.gca().invert_yaxis()\n",
    "plt.title('Permutation Importance (RF)'); plt.tight_layout(); plt.show()\n"
   ]
  }
 ],
 "metadata": {},
 "nbformat": 4,
 "nbformat_minor": 5
}
