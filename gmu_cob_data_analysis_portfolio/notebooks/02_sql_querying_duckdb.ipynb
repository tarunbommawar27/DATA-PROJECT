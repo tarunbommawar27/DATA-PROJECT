{
 "cells": [
  {
   "cell_type": "markdown",
   "id": "7c90c1e9",
   "metadata": {},
   "source": [
    "# 02 — SQL Querying (DuckDB)"
   ]
  },
  {
   "cell_type": "code",
   "execution_count": null,
   "id": "1fed12a3",
   "metadata": {},
   "outputs": [],
   "source": [
    "\n",
    "!pip -q install duckdb\n",
    "import duckdb, pandas as pd\n",
    "con = duckdb.connect(database=':memory:')\n",
    "con.execute(\"CREATE TABLE rents AS SELECT * FROM read_csv_auto('data/rents.csv', DATEFORMAT='%Y-%m-%d')\")\n",
    "con.execute(\"CREATE TABLE households AS SELECT * FROM read_csv_auto('data/households.csv')\")\n",
    "con.execute(\"CREATE TABLE shelters AS SELECT * FROM read_csv_auto('data/shelters.csv')\")\n",
    "con.execute(\"CREATE TABLE occupancy AS SELECT * FROM read_csv_auto('data/shelter_occupancy.csv', DATEFORMAT='%Y-%m-%d')\")\n",
    "\n",
    "q1 = con.execute(\"\"\"\n",
    "    SELECT county, AVG(avg_rent_usd) AS avg_rent_2024\n",
    "    FROM rents\n",
    "    WHERE strftime(month, '%Y') = '2024'\n",
    "    GROUP BY county\n",
    "    ORDER BY avg_rent_2024 DESC\n",
    "\"\"\").df(); print(q1)\n",
    "\n",
    "con.execute(\"\"\"\n",
    "    CREATE TABLE occ_full AS\n",
    "    SELECT o.*, s.county, s.capacity, CAST(o.occupied_beds AS DOUBLE)/s.capacity AS utilization\n",
    "    FROM occupancy o JOIN shelters s USING (shelter_id)\n",
    "\"\"\")\n",
    "q2 = con.execute(\"\"\"\n",
    "    SELECT county, AVG(utilization) AS avg_util_last6mo\n",
    "    FROM occ_full\n",
    "    WHERE date >= '2024-07-01'\n",
    "    GROUP BY county\n",
    "    ORDER BY avg_util_last6mo DESC\n",
    "\"\"\").df(); print(q2)\n",
    "\n",
    "q3 = con.execute(\"\"\"\n",
    "    SELECT county, year, AVG(eviction_filed_next_6mo) AS eviction_rate\n",
    "    FROM households\n",
    "    GROUP BY county, year\n",
    "    ORDER BY year, eviction_rate DESC\n",
    "\"\"\").df(); print(q3.head())\n"
   ]
  }
 ],
 "metadata": {},
 "nbformat": 4,
 "nbformat_minor": 5
}
